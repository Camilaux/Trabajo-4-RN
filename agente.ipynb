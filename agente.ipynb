{
 "cells": [
  {
   "cell_type": "code",
   "execution_count": 20,
   "metadata": {},
   "outputs": [],
   "source": [
    "from langchain_community.document_loaders import PyPDFLoader, TextLoader, Docx2txtLoader\n",
    "from langchain_community.document_loaders import UnstructuredWordDocumentLoader\n",
    "from langchain_community.document_loaders import TextLoader\n",
    "from langchain.text_splitter import RecursiveCharacterTextSplitter\n",
    "from langchain.embeddings import HuggingFaceEmbeddings\n",
    "from langchain.vectorstores import Chroma"
   ]
  },
  {
   "cell_type": "markdown",
   "metadata": {},
   "source": [
    "# Leer el documentos"
   ]
  },
  {
   "cell_type": "code",
   "execution_count": 21,
   "metadata": {},
   "outputs": [],
   "source": [
    "def cargar_documentos(ruta_archivo):\n",
    "    \"\"\"Carga documentos en PDF, TXT o DOCX y los convierte en texto.\"\"\"\n",
    "    if ruta_archivo.endswith(\".pdf\"):\n",
    "        loader = PyPDFLoader(ruta_archivo)\n",
    "    elif ruta_archivo.endswith(\".txt\"):\n",
    "        loader = TextLoader(ruta_archivo)\n",
    "    elif ruta_archivo.endswith(\".docx\"):\n",
    "        loader = Docx2txtLoader(ruta_archivo)\n",
    "    else:\n",
    "        raise ValueError(\"Formato no soportado. Usa PDF, TXT o DOCX.\")\n",
    "    \n",
    "    documentos = loader.load()\n",
    "    \n",
    "    return documentos"
   ]
  },
  {
   "cell_type": "code",
   "execution_count": 2,
   "metadata": {},
   "outputs": [
    {
     "data": {
      "text/plain": [
       "[Document(metadata={'producer': 'Acrobat Distiller 19.0 (Windows)', 'creator': 'PScript5.dll Version 5.2.2', 'creationdate': '2024-10-30T15:27:39-05:00', 'author': 'USUARIO', 'moddate': '2024-10-30T15:27:39-05:00', 'title': 'Microsoft PowerPoint - 1-01-Curso_PLN', 'source': 'data/1-01-Curso_PLN.pdf', 'total_pages': 4, 'page': 0, 'page_label': '1'}, page_content='30/10/2024\\n3011176 - Procesamiento del Lenguaje \\nNatural\\nFACULTAD DE MINAS\\nSede Medellín\\nSINTELWEB\\nGrupo de Investigación\\nSistemas Inteligentes Web\\nJAIME ALBERTO GUZMAN LUNA, Ph.D\\nInformación de contacto\\n\\uf06e Jaime Alberto Guzmán Luna\\n\\uf06e Doctor en Ingeniería de Sistemas e Informática\\n\\uf06e M.Sc. en Ingeniería de Sistemas e Informática\\n\\uf06e Especialista en comunicación educativa\\n\\uf06e Ingeniero Civil\\n\\uf06e Áreas de trabajo\\n\\uf06e Inteligencia Artificial\\n\\uf06e Sistemas de recuperación de información\\n\\uf06e Planificación automática de procesos \\n\\uf06e Aprendizaje de máquinas\\n\\uf06e PLN con aprendizaje profundo\\n\\uf06e Universidad Nacional de Colombia\\n\\uf06e Oficina M8A-306\\n\\uf06e Email: jaguzman@unal.edu.co \\n\\uf06e Horario de Atención virtual (citas previas): \\n\\uf06e Lunes de 2:30 a 4:30 pm\\n\\uf0a7 Apoyo: \\n\\uf0a7 Alejandro Jiménez Franco\\n\\uf0a7 Email: aljimenezfr@unal.edu.co\\n1\\n2'),\n",
       " Document(metadata={'producer': 'Acrobat Distiller 19.0 (Windows)', 'creator': 'PScript5.dll Version 5.2.2', 'creationdate': '2024-10-30T15:27:39-05:00', 'author': 'USUARIO', 'moddate': '2024-10-30T15:27:39-05:00', 'title': 'Microsoft PowerPoint - 1-01-Curso_PLN', 'source': 'data/1-01-Curso_PLN.pdf', 'total_pages': 4, 'page': 1, 'page_label': '2'}, page_content='30/10/2024\\nObjetivos\\n\\uf06e Objetivo general\\n\\uf06e El objetivo de este curso es proporcionar a los estudiantes las habilidades y\\nconocimientos fundamentales en el campo del Procesamiento de Lenguaje Natural,\\nun campo de la inteligencia artificial que permite a las máquinas comprender y\\nmanipular el lenguaje humano. Los temas abarcan desde el procesamiento de\\ntexto básico hasta la comprensión del lenguaje, con aplicaciones en análisis de\\nsentimientos, traducciónautomática, chatbots y más.\\n\\uf06e Objetivos específicos\\n\\uf06e Comprender los conceptos clave en Procesamiento del Lenguaje Natural\\nfamiliarizándose con las bibliotecas populares de PLN (como NLTK, SpaCy,\\nTransformers de Hugging Face, etc.)\\n\\uf06e Familiarizarse con las técnicas y algori tmos utilizados para el procesamiento de\\ntexto, análisis de sentimiento, clasificación de texto y extracción de la información.\\n\\uf06e Entender los Modelos de Lenguaje y sus aplicaciones prácticas.\\n\\uf06e Aplicar modelos y herramientas de PLN avanzadas a problemas del mundo real\\n(traducción automática, Preguntas&Respuestas- QA, análisis de conversaciones,\\netc)\\nContenido del Curso (1)\\n\\uf06e TEMA 1: Introducción al Procesamiento de Lenguaje Natural.\\n\\uf06e Generalidades del Procesamiento de Lenguaje Natural y su importancia.\\n\\uf06e Limpieza y normalización de textos en Python\\n\\uf06e Manejo de errores ortográficos: Pyspellchecker\\n\\uf06e TEMA 2: Procesamiento de Texto.\\n\\uf06e Tareas básicas de procesamiento de texto: tokenización, stopswords,\\nstemming y lematización\\n\\uf06e Bibliotecas populares; NLTK, spaCy y TextBlob\\n\\uf06e TEMA 3:Manejo de corpus de texto.\\n\\uf06e Modelos Estadísticos de Lenguaje (N-gramas y modelos probabilísticos;\\nmodelo TF-IDF; e introducción a la semántica latente-LSA).\\n\\uf06e Creación de corpus desde textos y la Web (text mining y web scraping)\\n\\uf06e Métricas básicas para corpus de texto\\n3\\n4'),\n",
       " Document(metadata={'producer': 'Acrobat Distiller 19.0 (Windows)', 'creator': 'PScript5.dll Version 5.2.2', 'creationdate': '2024-10-30T15:27:39-05:00', 'author': 'USUARIO', 'moddate': '2024-10-30T15:27:39-05:00', 'title': 'Microsoft PowerPoint - 1-01-Curso_PLN', 'source': 'data/1-01-Curso_PLN.pdf', 'total_pages': 4, 'page': 2, 'page_label': '3'}, page_content='30/10/2024\\nContenido del Curso (2)\\n\\uf06e TEMA 4:Análisis de Sentimientos, clasificación y extracción de información en textos.\\n\\uf06e Introducción al análisis de sentimientos; Métodos supervisados y no supervisados; y \\nAplicaciones prácticas y casos de estudio\\n\\uf06e Clasificación de Texto con algoritmos de aprendizaje automático (Modelos de clasificación \\npopulares: Naive Bayes, SVM, redes neuronales), Evaluación de modelos de clasificación de \\ntexto.\\n\\uf06e Extracción de Información, Reconocimiento de entidades nombradas (NER) y Extracción de \\nrelaciones entre entidades.\\n\\uf06e TEMA 5:Modelos Avanzados de Representación de Texto.\\n\\uf06e Word embeddings: Word2Vec, GloVe.\\n\\uf06e Modelos basados en redes neuronales: embeddings de contexto (FastText, ELMo).\\n\\uf06e Transformadores y el modelo BERT. \\n\\uf06e TEMA 6:Generación de Texto y Modelos de Lenguaje.\\n\\uf06e Redes neuronales recurrentes (RNN) y LSTM.\\n\\uf06e Transformadores para generación de texto (GPT).\\n\\uf06e Aplicaciones prácticas en PLN Traducción automática, chatbots, resumen de texto, QA \\n(Question Answering), análisis de conversaciones.\\nMetodología\\n\\uf06e Actividades presenciales: \\n\\uf06e Clases magistrales por parte del docente.\\n\\uf06e Talleres: Alumnos en compañía del docente y monitores\\n\\uf06e Exposiciones de los estudiantes\\n\\uf06e Presentación de prácticas por parte de los estudiantes.\\n\\uf06e Actividades Asíncronas: \\n\\uf06e Videos de temas complementarios\\n\\uf06e Talleres en casa\\n5\\n6'),\n",
       " Document(metadata={'producer': 'Acrobat Distiller 19.0 (Windows)', 'creator': 'PScript5.dll Version 5.2.2', 'creationdate': '2024-10-30T15:27:39-05:00', 'author': 'USUARIO', 'moddate': '2024-10-30T15:27:39-05:00', 'title': 'Microsoft PowerPoint - 1-01-Curso_PLN', 'source': 'data/1-01-Curso_PLN.pdf', 'total_pages': 4, 'page': 3, 'page_label': '4'}, page_content='30/10/2024\\nEvaluación\\n\\uf06e 2 trabajos prácticos: \\n\\uf06e Práctica 1: Aplicativo para el análisis de sentimientos desde \\ntextos(25%)\\n\\uf06e Fecha: miércoles 27 de noviembre de 4 a 8 pm. \\n\\uf06e Práctica 2: Aplicativo practico basado en la Generación de Texto y \\nModelos de Lenguaje (25%)\\n\\uf06e Fecha: miércoles 26 de febrero de 4 a 8 pm.\\n\\uf06e Exposiciones sobre temáticas (20%)\\n\\uf06e Fecha miércoles 15 de enero de 4 a 8 pm\\n\\uf06e Seguimiento a Talleres (30%)\\n\\uf06e Miércoles 12 m\\nLecturas y Recursos Recomendados\\n7\\n8')]"
      ]
     },
     "execution_count": 2,
     "metadata": {},
     "output_type": "execute_result"
    }
   ],
   "source": [
    "# Leer documento pdf\n",
    "loader = PyPDFLoader(\"data/1-01-Curso_PLN.pdf\")\n",
    "pages = loader.load()\n",
    "pages"
   ]
  },
  {
   "cell_type": "markdown",
   "metadata": {},
   "source": [
    "# Split document"
   ]
  },
  {
   "cell_type": "code",
   "execution_count": 28,
   "metadata": {},
   "outputs": [],
   "source": [
    "def split_text(text):\n",
    "    \"\"\"Divide el texto en oraciones.\"\"\"\n",
    "    text_splitter = RecursiveCharacterTextSplitter(chunk_size=500, # Número de caracteres por chunk o fragmento\n",
    "                                              chunk_overlap=50, # Número de caracteres de traslape entre chunks\n",
    "                                              length_function=len, # Función para obtener la longitud de un texto\n",
    "                                              separators=[\"\\n\\n\", \"\\n\", \" \"], # Separadores de palabras\n",
    "                                              )\n",
    "    textos_fragmentados = text_splitter.split_documents(text)\n",
    "    \n",
    "    return textos_fragmentados"
   ]
  },
  {
   "cell_type": "markdown",
   "metadata": {},
   "source": [
    "# Crear embeddings\n",
    "\n",
    "Se hará uso de un modelo de Hugging Face all-MiniLM-L6-v2"
   ]
  },
  {
   "cell_type": "code",
   "execution_count": 13,
   "metadata": {},
   "outputs": [
    {
     "name": "stderr",
     "output_type": "stream",
     "text": [
      "c:\\Users\\Usuario\\Documents\\Universidad\\Redes Neuronales\\Trabajo 4\\.venv\\lib\\site-packages\\tqdm\\auto.py:21: TqdmWarning: IProgress not found. Please update jupyter and ipywidgets. See https://ipywidgets.readthedocs.io/en/stable/user_install.html\n",
      "  from .autonotebook import tqdm as notebook_tqdm\n",
      "c:\\Users\\Usuario\\Documents\\Universidad\\Redes Neuronales\\Trabajo 4\\.venv\\lib\\site-packages\\huggingface_hub\\file_download.py:142: UserWarning: `huggingface_hub` cache-system uses symlinks by default to efficiently store duplicated files but your machine does not support them in C:\\Users\\Usuario\\.cache\\huggingface\\hub\\models--sentence-transformers--all-MiniLM-L6-v2. Caching files will still work but in a degraded version that might require more space on your disk. This warning can be disabled by setting the `HF_HUB_DISABLE_SYMLINKS_WARNING` environment variable. For more details, see https://huggingface.co/docs/huggingface_hub/how-to-cache#limitations.\n",
      "To support symlinks on Windows, you either need to activate Developer Mode or to run Python as an administrator. In order to activate developer mode, see this article: https://docs.microsoft.com/en-us/windows/apps/get-started/enable-your-device-for-development\n",
      "  warnings.warn(message)\n"
     ]
    }
   ],
   "source": [
    "# Usar modelo de Hugging Face\n",
    "embeddings = HuggingFaceEmbeddings(model_name=\"sentence-transformers/all-MiniLM-L6-v2\")"
   ]
  },
  {
   "cell_type": "markdown",
   "metadata": {},
   "source": [
    "# Almacenar  embeddings en ChromaDB"
   ]
  },
  {
   "cell_type": "code",
   "execution_count": 29,
   "metadata": {},
   "outputs": [],
   "source": [
    "def create_vector_store(texts, embeddings):\n",
    "    \"\"\"Crea un vector store a partir de una lista de textos.\"\"\"\n",
    "    documentos = cargar_documentos(texts)\n",
    "    textos_fragmentados = split_text(documentos)\n",
    "    vectorstore = Chroma.from_documents(textos_fragmentados, embeddings, persist_directory=\"./chroma_db\")\n",
    "    \n",
    "    return vectorstore"
   ]
  },
  {
   "cell_type": "code",
   "execution_count": 30,
   "metadata": {},
   "outputs": [],
   "source": [
    "path = \"data/1-01-Curso_PLN.pdf\"\n",
    "vectorstore = create_vector_store(path, embeddings)"
   ]
  }
 ],
 "metadata": {
  "kernelspec": {
   "display_name": ".venv",
   "language": "python",
   "name": "python3"
  },
  "language_info": {
   "codemirror_mode": {
    "name": "ipython",
    "version": 3
   },
   "file_extension": ".py",
   "mimetype": "text/x-python",
   "name": "python",
   "nbconvert_exporter": "python",
   "pygments_lexer": "ipython3",
   "version": "3.10.11"
  }
 },
 "nbformat": 4,
 "nbformat_minor": 2
}
